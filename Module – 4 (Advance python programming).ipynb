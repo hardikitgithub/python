{
 "cells": [
  {
   "cell_type": "code",
   "execution_count": null,
   "id": "ef08be60",
   "metadata": {},
   "outputs": [],
   "source": [
    "# Q 1. What is File function in python? What is keywords to create and write file\n",
    "# ---> methods and attributes to access and manipulate files.\n",
    "#     Using file objects, we can read or write any files. Whenever we open a file to perform any operations on it,\n",
    "#     Python returns a file object. To create a file object in Python use the built-in functions, such as open() and os. popen() .\n",
    "\n",
    "#     readlines() : This function returns a list where each element is single line of that file.\n",
    "#     write() : This function writes a fixed sequence of characters to a file.\n",
    "#     writelines() : This function writes a list of string.\n",
    "#     append() : This function append string to the file instead of overwriting the file"
   ]
  },
  {
   "cell_type": "code",
   "execution_count": 19,
   "id": "0db478de",
   "metadata": {},
   "outputs": [
    {
     "name": "stdout",
     "output_type": "stream",
     "text": [
      "helllo,everyone\n",
      "how are you?\n",
      "\n"
     ]
    }
   ],
   "source": [
    "# Q 2. Write a Python program to read an entire text file. \n",
    "\n",
    "file=open(\"Q1.txt\",\"r\")  #file is open\n",
    "\n",
    "print(file.read()) #read file\n"
   ]
  },
  {
   "cell_type": "code",
   "execution_count": 21,
   "id": "50ee50a1",
   "metadata": {},
   "outputs": [
    {
     "name": "stdout",
     "output_type": "stream",
     "text": [
      "Enter Name : hardik vaghasiya\n",
      "16\n",
      "my name is hardik vaghasiya\n"
     ]
    }
   ],
   "source": [
    "# Q 3. Write a Python program to append text to a file and display the text. \n",
    "\n",
    "name=input(\"Enter Name : \")\n",
    "\n",
    "file=open(\"Q2.txt\", \"a\")  #file open with append mood\n",
    "\n",
    "print(file.write(name))  \n",
    "\n",
    "file.close()\n",
    "\n",
    "file=open(\"Q2.txt\",\"r\")  #file open with read mood\n",
    "\n",
    "print(file.read())"
   ]
  },
  {
   "cell_type": "code",
   "execution_count": 25,
   "id": "dfbc35f6",
   "metadata": {},
   "outputs": [
    {
     "name": "stdout",
     "output_type": "stream",
     "text": [
      "Rakshit,chirag,jay,pratik,\n"
     ]
    }
   ],
   "source": [
    "# Q 4. Write a Python program to read first n lines of a file.\n",
    "\n",
    "file=open(\"Q3.txt\",\"r\") #file open with read moodqsjy\n",
    "\n",
    "print(file.readline())  #file is readline print"
   ]
  },
  {
   "cell_type": "code",
   "execution_count": 26,
   "id": "b413b6f3",
   "metadata": {},
   "outputs": [
    {
     "name": "stdout",
     "output_type": "stream",
     "text": [
      "Enter A Number : 5\n",
      "['hardik 1\\n', 'vaghasiya 2']\n"
     ]
    }
   ],
   "source": [
    "# Q 5. Write a Python program to read last n lines of a file. \n",
    "\n",
    "n=int(input(\"Enter A Number : \"))\n",
    "\n",
    "fp=open(\"Q4.txt\",\"r\")  #file open with read mood\n",
    "\n",
    "lines=fp.readlines()  #lines veriable include file readline\n",
    "\n",
    "print(lines[-n:])  \n",
    "\n",
    "fp.close()"
   ]
  },
  {
   "cell_type": "code",
   "execution_count": 27,
   "id": "dae8d763",
   "metadata": {},
   "outputs": [
    {
     "name": "stdout",
     "output_type": "stream",
     "text": [
      "['hello 1 wow 2 great 3 imidiately 4']\n"
     ]
    }
   ],
   "source": [
    "# Q 6. Write a Python program to read a file line by line and store it into a list\n",
    "\n",
    "fp=open(\"Q5.txt\",\"r\") #file open with read mood\n",
    "\n",
    "lines=fp.readlines()\n",
    "\n",
    "print(lines)"
   ]
  },
  {
   "cell_type": "code",
   "execution_count": 28,
   "id": "6131e27a",
   "metadata": {},
   "outputs": [
    {
     "name": "stdout",
     "output_type": "stream",
     "text": [
      "hello 1 wow 2 great 3 imidiately 4\n"
     ]
    }
   ],
   "source": [
    "# Q 7. Write a Python program to read a file line by line store it into a variable.\n",
    "str=\"\"  #empty string\n",
    "fp=open(\"Q5.txt\",\"r\")  #file open with read mood\n",
    "\n",
    "for i in range(0,100):  #for loop in range in 0 to 100\n",
    "    str=str + fp.read(i) #str += read file of i\n",
    "    \n",
    "print(str)  #print str"
   ]
  },
  {
   "cell_type": "code",
   "execution_count": 29,
   "id": "4b055556",
   "metadata": {},
   "outputs": [
    {
     "name": "stdout",
     "output_type": "stream",
     "text": [
      "Enter A number : 3\n",
      "Enter A string: hardik\n",
      "Enter A string: sdw\n",
      "Enter A string: qwq\n",
      "hardik\n"
     ]
    }
   ],
   "source": [
    "# Q 8. Write a python program to find the longest words\n",
    "n=int(input(\"Enter A number : \"))\n",
    "list1=[]  #empty list\n",
    "for i in range(n):  #for loop range in n\n",
    "    str1=input(\"Enter A string: \")\n",
    "    list1.append(str1)  #list1 append to str1\n",
    "    s=sorted(list1,key=len)  #sorted to list1 and key length\n",
    "print(s[-1])  # s varible and -1 value print"
   ]
  },
  {
   "cell_type": "code",
   "execution_count": 30,
   "id": "5d0132f5",
   "metadata": {},
   "outputs": [
    {
     "name": "stdout",
     "output_type": "stream",
     "text": [
      "7\n"
     ]
    }
   ],
   "source": [
    "# Q 9. Write a Python program to count the number of lines in a text file.\n",
    "file=open(\"Q6.txt\",\"r\")  #open file with read mood\n",
    "count=0  #impty int\n",
    "for i in file:  #for loop in file\n",
    "    if i[0] not in \"\":  #if i of 0 not in \"\"\n",
    "        count+=1 #count in += of 1\n",
    "print(count) #print of count\n",
    "        \n",
    "file.close()"
   ]
  },
  {
   "cell_type": "code",
   "execution_count": 7,
   "id": "9d056ae7",
   "metadata": {},
   "outputs": [
    {
     "name": "stdout",
     "output_type": "stream",
     "text": [
      "{'Apple': 2, 'Banna': 2, 'Orange': 1, 'Watermalen': 1}\n"
     ]
    }
   ],
   "source": [
    "# Q 10. Write a Python program to count the frequency of words in a file.\n",
    "\n",
    "str1=\"Apple Banna Apple Orange Watermalen Banna \"\n",
    "list1=list(str1.split())  #str1 is split and convert to list\n",
    "list2=[list1.count(i)  #list1 in count of \n",
    "       for i in list1] #for loop in list1\n",
    "print(dict(zip(list1,list2))) #list1 and list2 in dict and zip in convert and print"
   ]
  },
  {
   "cell_type": "code",
   "execution_count": 32,
   "id": "1c2c2236",
   "metadata": {},
   "outputs": [
    {
     "name": "stdout",
     "output_type": "stream",
     "text": [
      "Apple Banna Apple Orange Watermalen Banna\n"
     ]
    }
   ],
   "source": [
    "# Q 11. Write a Python program to write a list to a file\n",
    "l1=[\"chirag\",\"sagar\",\"dhaval\",\"viral\"] #l1 is list\n",
    "ch=open(\"Q7.txt\",\"r\")   # open file read mode\n",
    "ch.close()  #ch file is close\n",
    "fp=open(\"Q7.txt\",\"r\") #file open with read mood\n",
    "print(fp.read()) #file is read and print"
   ]
  },
  {
   "cell_type": "code",
   "execution_count": 37,
   "id": "2ea2a69b",
   "metadata": {},
   "outputs": [
    {
     "name": "stdout",
     "output_type": "stream",
     "text": [
      "Chirag\n",
      "jay\n",
      "rakshit\n",
      "pratik\n",
      "\n"
     ]
    }
   ],
   "source": [
    "# Q 12. Write a Python program to copy the contents of a file to another file.\n",
    "fp=open(\"Q8.txt\",\"r\") #file open with read mood\n",
    "fp1=open(\"Q8A.txt\",\"w\")  #file open wioth write mood\n",
    "for line in fp: #for loop in fp file\n",
    "    fp1.write(line) #fp1 file write of line\n",
    "fp1.close() #file is close\n",
    "fp1=open(\"Q8A.txt\",\"r\") #repet file open \n",
    "print(fp1.read()) #file read and print"
   ]
  },
  {
   "cell_type": "code",
   "execution_count": null,
   "id": "275698d0",
   "metadata": {},
   "outputs": [],
   "source": [
    "# Q 13. Explain Exception handling? What is an Error in Python? \n",
    "# --->  An exception is an event, which occurs during the execution of a program that disrupts the normal flow of the program's \n",
    "#       instructions. In general, when a Python script encounters a situation that it cannot cope with, it raises an exception.\n",
    "#       An exception is a Python object that represents an error."
   ]
  },
  {
   "cell_type": "code",
   "execution_count": null,
   "id": "b08077b6",
   "metadata": {},
   "outputs": [],
   "source": [
    "# Q 14. How many except statements can a try-except block have? Name Some  built-in exception classes:\n",
    "#   ->  The try block lets you test a block of code for errors.\n",
    "\n",
    "#   ->  The except block lets you handle the error.\n",
    "\n",
    "#   ->  The else block lets you execute code when there is no error.\n",
    "\n",
    "#   ->  The finally block lets you execute code, regardless of the result of the try- and except blocks."
   ]
  },
  {
   "cell_type": "code",
   "execution_count": null,
   "id": "a7e5ed8c",
   "metadata": {},
   "outputs": [],
   "source": [
    "# Q 15. When will the else part of try-except-else be executed? \n",
    "# --->  Explanation: The else part is executed when no exception occurs."
   ]
  },
  {
   "cell_type": "code",
   "execution_count": null,
   "id": "eb95bde5",
   "metadata": {},
   "outputs": [],
   "source": [
    "# Q 17. When is the finally block executed?\n",
    "# --->  the finally block is always executed, even if no exception was thrown."
   ]
  },
  {
   "cell_type": "code",
   "execution_count": null,
   "id": "32a1f27f",
   "metadata": {},
   "outputs": [],
   "source": [
    "# Q 18. What happens when „1‟== 1 is executed? \n",
    "# --->  Explanation: it simply evaluates to false and does not raise any exception."
   ]
  },
  {
   "cell_type": "code",
   "execution_count": 6,
   "id": "bc69fbe4",
   "metadata": {},
   "outputs": [
    {
     "name": "stdout",
     "output_type": "stream",
     "text": [
      "Enter A number : 3\n",
      "3\n",
      "Python.....\n"
     ]
    }
   ],
   "source": [
    "# Q 19. How Do You Handle Exceptions With Try/Except/Finally In Python? Explain with coding snippets\n",
    "\n",
    "try: #try to exception handling\n",
    "    a=int(input(\"Enter A number : \"))\n",
    "    print(a)\n",
    "except ValueError:  #excepting valueerror\n",
    "    print(\"not a valid string.\")\n",
    "finally: #print to finally\n",
    "    print(\"Python.....\")"
   ]
  },
  {
   "cell_type": "code",
   "execution_count": 5,
   "id": "537a35e6",
   "metadata": {},
   "outputs": [
    {
     "name": "stdout",
     "output_type": "stream",
     "text": [
      "Enter A  Even Number : 4\n",
      "Even Number Is 4\n"
     ]
    }
   ],
   "source": [
    "# Q 20. Write python program that user to enter only odd numbers, else will raise an exception. \n",
    "\n",
    "try: #try to exception handling\n",
    "    num=int(input(\"Enter A  Even Number : \"))\n",
    "    if num % 2 == 0:  #num divid to 2 and equl equl outof 0 value is even number\n",
    "        print(f\"Even Number Is {num}\") #print to even number\n",
    "except ValueError: #exceptin valueerror\n",
    "    print(\"Not A String Input Plese Intiger Number in except.\")"
   ]
  },
  {
   "cell_type": "code",
   "execution_count": 3,
   "id": "df32e697",
   "metadata": {},
   "outputs": [
    {
     "name": "stdout",
     "output_type": "stream",
     "text": [
      "Enter Your Name : hardik\n",
      "Enter Your Age : 24\n",
      "Enter Your E-Mail : hardikvaghasiya804@gmail.com\n",
      "Enter Your Mobile number : 09725627502\n",
      "Name Is hardik\n",
      "Age Is 24\n",
      "E-Mail Is hardikvaghasiya804@gmail.com\n",
      "Mobile Number Is 9725627502\n"
     ]
    }
   ],
   "source": [
    "# Q 22. How to Define a Class in Python? What Is Self? Give An Example Of A Python Class \n",
    "# --->  A class in Python can be defined using the class keyword. As per the syntax above,\n",
    "#       a class is defined using the class keyword followed by the class name and : operator after the class name,\n",
    "#       which allows you to continue in the next indented line to define class members.\n",
    "    \n",
    "# ---> What is SELF in Python? SELF represents the instance of class.\n",
    "#      This handy keyword allows you to access variables, attributes, and methods of a defined class in Python.\n",
    "#      The self parameter doesn't have to be named “self,” as you can call it by any other name.06\n",
    "\n",
    "class student:  #class of student\n",
    "    def __init__(self): #constructor\n",
    "        self.name=\"\"   #variable\n",
    "        self.age=0\n",
    "        self.email=\"\"\n",
    "        self.mobile=0\n",
    "        \n",
    "    def getdata(self): #function\n",
    "        self.name=input(\"Enter Your Name : \")\n",
    "        self.age=int(input(\"Enter Your Age : \"))\n",
    "        self.email=input(\"Enter Your E-Mail : \")\n",
    "        self.mobile=int(input(\"Enter Your Mobile number : \"))\n",
    "        \n",
    "    def showdata(self): #function\n",
    "        print(f\"Name Is {self.name}\")\n",
    "        print(f\"Age Is {self.age}\")\n",
    "        print(f\"E-Mail Is {self.email}\")\n",
    "        print(f\"Mobile Number Is {self.mobile}\")\n",
    "        \n",
    "s1=student() #object call\n",
    "s1.getdata() #function call\n",
    "s1.showdata()#function call"
   ]
  },
  {
   "cell_type": "code",
   "execution_count": 2,
   "id": "c38e231b",
   "metadata": {},
   "outputs": [
    {
     "name": "stdout",
     "output_type": "stream",
     "text": [
      "Enter Length Of Area : 3\n",
      "Enter Width of Area : 3\n",
      "Rectangle Of Area : 9.0\n"
     ]
    }
   ],
   "source": [
    "# Q 23. Write a Python class named Rectangle constructed by a length and width and a method which will compute the area of a rectangle\n",
    "\n",
    "class Ractangle: #class of ractangle\n",
    "    def __init__(self): #cunstrocter\n",
    "        self.length=0.0 #variable\n",
    "        self.width=0.0\n",
    "    def getdata(self): #function\n",
    "        self.length=float(input(\"Enter Length Of Area : \"))\n",
    "        self.width=float(input(\"Enter Width of Area : \"))\n",
    "        \n",
    "    def showdata(self): #function\n",
    "        area=self.length * self.width  #length and width multiplaction by area\n",
    "        print(f\"Rectangle Of Area : {area}\")\n",
    "        \n",
    "R1=Ractangle()#object call\n",
    "R1.getdata()#function call\n",
    "R1.showdata()#function call"
   ]
  },
  {
   "cell_type": "code",
   "execution_count": 1,
   "id": "eae1bc2c",
   "metadata": {},
   "outputs": [
    {
     "name": "stdout",
     "output_type": "stream",
     "text": [
      "Enter A Radius of Circle : 2\n",
      "Area of Cricle :12.56\n",
      "Perimeter of Circle :12.56\n"
     ]
    }
   ],
   "source": [
    "# Q 24. Write a Python class named Circle constructed by a radius and two methods which will compute the area and the perimeter of a circle\n",
    "\n",
    "class circle: #class of circle\n",
    "    def __init__(self): #cunstrocter\n",
    "        r=radius\n",
    "        \n",
    "    def area(self,r):#function pass to self and r\n",
    "        area=3.14*r*r #area of pii multiplication of 2r\n",
    "        print(f\"Area of Cricle :{area:.2f}\")\n",
    "    \n",
    "    def perimeter(self,r):#function pass to self and r\n",
    "        perimete=2*(3.14*r) #perimarte of 2 multiplication of pii in multiplication r\n",
    "        print(f\"Perimeter of Circle :{perimete:.2f}\")\n",
    "\n",
    "radius=float(input(\"Enter A Radius of Circle : \"))        \n",
    "c1=circle() #object call\n",
    "c1.area(radius) #function call and pass to radius\n",
    "c1.perimeter(radius) #function call and pass to radius"
   ]
  },
  {
   "cell_type": "code",
   "execution_count": null,
   "id": "4d9333b7",
   "metadata": {},
   "outputs": [],
   "source": [
    "# Q 25. Explain Inheritance in Python with an example? What is init? Or What Is A Constructor In Python? \n",
    "# --->  Inheritance relationship defines the classes that inherit from other classes as derived, subclass,\n",
    "#       or sub-type classes. Base class remains to be the source from which a subclass inherits.\n",
    "# ex->\n",
    "# class Animal:   # supar/base class\n",
    "#     def\n",
    "# class lion(Animal):  # sub/dirived class  & Inherit base class  \n",
    "#     def\n",
    "\n",
    "# ---> [---What is init---]\n",
    "# ---> The __init__ method is the Python equivalent of the C++ constructor in an object-oriented approach.\n",
    "#      The __init__ function is called every time an object is created from a class.\n",
    "#      The __init__ method lets the class initialize the object's attributes and serves no other purpose.\n",
    "#      It is only used within classes.\n",
    "    \n",
    "# ---> [--What Is A Constructor In Python?--] \n",
    "# ---> A constructor is a special method in a class used to create and initialize an object of a class.\n",
    "#      There are different types of constructors in Python programming language. Constructor is invoked automatically\n",
    "#      when an object of a class is created"
   ]
  },
  {
   "cell_type": "code",
   "execution_count": null,
   "id": "d5f3980e",
   "metadata": {},
   "outputs": [],
   "source": [
    "# Q 26. What is Instantiation in terms of OOP terminology? \n",
    "# --->  In the OOP language C#, instantiation describes the processes of creating a new object for a class using a new keyword."
   ]
  },
  {
   "cell_type": "code",
   "execution_count": null,
   "id": "5c7c448c",
   "metadata": {},
   "outputs": [],
   "source": [
    "# Q 27. What is used to check whether an object o is an instance of class A?\n",
    "# --->  The instanceof operator in Java is used to check whether an object is an instance of a particular class or not. \n",
    "#       objectName instanceOf className; Here, if objectName is an instance of className , the operator returns true . \n",
    "#       Otherwise, it returns false ."
   ]
  },
  {
   "cell_type": "code",
   "execution_count": null,
   "id": "efc9b4c2",
   "metadata": {},
   "outputs": [],
   "source": [
    "# Q 28. What relationship is appropriate for Course and Faculty?\n",
    "# --->  The appropriate relationship between a \"Course\" and \"Faculty\" can be represented as a many-to-many relationship. \n",
    "#       This means that multiple courses can be taught by multiple faculty members, and each faculty member can teach multiple \n",
    "#       courses."
   ]
  },
  {
   "cell_type": "code",
   "execution_count": null,
   "id": "16893216",
   "metadata": {},
   "outputs": [],
   "source": [
    "# Q 29. What relationship is appropriate for Student and Person?\n",
    "# --->  The appropriate relationship between \"Student\" and \"Person\" can be represented as a one-to-one relationship. This means \n",
    "#       that each student is associated with one and only one person, and each person can be associated with one and only one \n",
    "#       student."
   ]
  }
 ],
 "metadata": {
  "kernelspec": {
   "display_name": "Python 3 (ipykernel)",
   "language": "python",
   "name": "python3"
  },
  "language_info": {
   "codemirror_mode": {
    "name": "ipython",
    "version": 3
   },
   "file_extension": ".py",
   "mimetype": "text/x-python",
   "name": "python",
   "nbconvert_exporter": "python",
   "pygments_lexer": "ipython3",
   "version": "3.10.9"
  }
 },
 "nbformat": 4,
 "nbformat_minor": 5
}
