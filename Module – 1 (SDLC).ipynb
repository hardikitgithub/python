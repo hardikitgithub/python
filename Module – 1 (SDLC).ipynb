{
 "cells": [
  {
   "cell_type": "code",
   "execution_count": null,
   "id": "f1b9d5b4",
   "metadata": {},
   "outputs": [],
   "source": [
    "# What is Software?\n",
    "#-->Software is a set of instructions, data, or programs used to operate a computer and execute specific tasks.\n",
    "#   In simpler terms, software tells a computer how to function. It’s a generic term used to refer to applications, scripts,\n",
    "#   and programs that run on devices such as PCs, mobile phones, tablets, and other smart devices. Software contrasts with hardware,\n",
    "#   which is the physical aspects of a computer that perform the work.})"
   ]
  },
  {
   "cell_type": "code",
   "execution_count": null,
   "id": "309a60d3",
   "metadata": {},
   "outputs": [],
   "source": [
    "# What is programing?\n",
    "#--> Let’s start with a simple programming definition. Programming involves instructing computers to perform tasks. \n",
    "#    It could be a simple task like displaying the sum of two numbers or solving complex problems like the operation of self-driving\n",
    "#   cars."
   ]
  },
  {
   "cell_type": "code",
   "execution_count": null,
   "id": "d581c8ef",
   "metadata": {},
   "outputs": [],
   "source": [
    "# What is Python?\n",
    "#Python is a high-level, general-purpose programming language. Its design philosophy emphasizes code readability with the \n",
    "#use of significant indentation. Python is dynamically typed and garbage-collected. It supports multiple programming paradigms,\n",
    "#including structured, object-oriented and functional programming. "
   ]
  },
  {
   "cell_type": "code",
   "execution_count": null,
   "id": "88fe72d0",
   "metadata": {},
   "outputs": [],
   "source": [
    "# What are the types of Applications?\n",
    "#-->Some types of applications include:\n",
    "#    Word processors.\n",
    "#    Database programs.\n",
    "#    Web browsers.\n",
    "#    Deployment tools.\n",
    "#    Image editors.\n",
    "#    Communication platforms."
   ]
  }
 ],
 "metadata": {
  "kernelspec": {
   "display_name": "Python 3 (ipykernel)",
   "language": "python",
   "name": "python3"
  },
  "language_info": {
   "codemirror_mode": {
    "name": "ipython",
    "version": 3
   },
   "file_extension": ".py",
   "mimetype": "text/x-python",
   "name": "python",
   "nbconvert_exporter": "python",
   "pygments_lexer": "ipython3",
   "version": "3.10.9"
  }
 },
 "nbformat": 4,
 "nbformat_minor": 5
}
