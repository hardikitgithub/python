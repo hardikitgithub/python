{
 "cells": [
  {
   "cell_type": "code",
   "execution_count": 14,
   "id": "91becc60",
   "metadata": {},
   "outputs": [],
   "source": [
    "#What is List? How will you reverse a list? \n",
    "#--->  A built-in function called reverse() is used to reverse the list. This simple and quick way to reverse a list in Python\n",
    "#      requires little memory. Syntax: list_name. reverse() Here, list_name means you have to write the list's name, which has \n",
    "#      to be reversed."
   ]
  },
  {
   "cell_type": "code",
   "execution_count": 1,
   "id": "64b55ef2",
   "metadata": {},
   "outputs": [
    {
     "name": "stdout",
     "output_type": "stream",
     "text": [
      "[2, 33, 222, 14]\n"
     ]
    }
   ],
   "source": [
    "#How will you remove last object from a list? \n",
    "#Suppose list1 is [2, 33, 222, 14, and 25], what is list1 [-1]?\n",
    "\n",
    "list1=[2,33,222,14,25]\n",
    "list1.pop(-1)  #remove last -1 object\n",
    "print(list1)"
   ]
  },
  {
   "cell_type": "code",
   "execution_count": 16,
   "id": "f7acfaa0",
   "metadata": {},
   "outputs": [],
   "source": [
    "#Differentiate between append () and extend () methods?\n",
    "#-->The append() method in the programming language Python adds an item to a list that already exists whereas the extend() \n",
    "#method adds each of the iterable elements which is supplied as a parameter to the end of the original list."
   ]
  },
  {
   "cell_type": "code",
   "execution_count": 4,
   "id": "f8d2665b",
   "metadata": {},
   "outputs": [
    {
     "name": "stdout",
     "output_type": "stream",
     "text": [
      "Enter Number :5\n",
      "Enter Element :56\n",
      "Enter Element :85\n",
      "Enter Element :25\n",
      "Enter Element :56\n",
      "Enter Element :58\n",
      "Maximum elements :  85\n",
      "Minimum elements :  25\n",
      "110\n"
     ]
    }
   ],
   "source": [
    "#Write a Python function to get the largest number, smallest num and sum of all from a list.\n",
    "list1 = []\n",
    "def function(num):\n",
    "    for i in range(num):\n",
    "        element = int(input(\"Enter Element :\"))\n",
    "        list1.append(element)  # empty list add in element\n",
    "    print(\"Maximum elements : \",max(list1))  #list for a largest number\n",
    "    print(\"Minimum elements : \",min(list1))  #list for a smallest number\n",
    "\n",
    "    sum = max(list1) + min(list1)  # sum of smallest number and largest number\n",
    "\n",
    "    print(sum)\n",
    "\n",
    "num = int(input(\"Enter Number :\"))\n",
    "function(num)"
   ]
  },
  {
   "cell_type": "code",
   "execution_count": 9,
   "id": "481ad8e6",
   "metadata": {},
   "outputs": [
    {
     "name": "stdout",
     "output_type": "stream",
     "text": [
      "Enter number : 2\n",
      "Enter Elements :5\n",
      "Enter Elements :53\n",
      "[5, 53]\n",
      "Enter number : 6\n",
      "Enter Elements : 6\n",
      "Enter Elements : 9\n",
      "Enter Elements : 9\n",
      "Enter Elements : 6\n",
      "Enter Elements : 5\n",
      "Enter Elements : 5\n",
      "[6, 9, 9, 6, 5, 5]\n",
      "List1 and List2 is equle.\n"
     ]
    }
   ],
   "source": [
    "#How will you compare two lists? \n",
    "list1 = []\n",
    "num1 = int(input(\"Enter number : \"))\n",
    "for i in range(num1):\n",
    "    element1 = int(input(\"Enter Elements :\"))\n",
    "    list1.append(element1)       #To append an element in List 1\n",
    "print(list1)\n",
    "sum1 = list1 + list1       #sum of list1\n",
    "list2 = []\n",
    "num2 = int(input(\"Enter number : \"))\n",
    "for a in range(num2):\n",
    "    element2 = int(input(\"Enter Elements : \"))\n",
    "    list2.append(element2)     #To append an element in List 2\n",
    "print(list2)\n",
    "sum2 = list2 + list2     #sum of list2\n",
    "if sum1 != sum2:       #To check if List 1 and List 2 are equal or not\n",
    "    print(\"List1 and List2 is equle.\")\n",
    "else:\n",
    "    print(\"List1 and List2 Is not equle.\")"
   ]
  },
  {
   "cell_type": "code",
   "execution_count": 10,
   "id": "20c6b946",
   "metadata": {},
   "outputs": [
    {
     "name": "stdout",
     "output_type": "stream",
     "text": [
      "Enter number :2\n",
      "Enter string : hardik\n",
      "Enter string : kjsakj\n",
      "list1 is :  ['hardik', 'kjsakj']\n"
     ]
    }
   ],
   "source": [
    "#Write a Python program to count the number of strings where the string \n",
    "#length is 2 or more and the first and last character are same from a given \n",
    "#list of strings.\n",
    "\n",
    "list1=[]\n",
    "num = int(input(\"Enter number :\"))\n",
    "for i in range(num):\n",
    "    element=input(\"Enter string : \")\n",
    "    list1.append(element)      #To append an element in List 1\n",
    "print(\"list1 is : \",list1)    #print list1\n",
    "\n",
    "for i in list1:\n",
    "    if len(i)>=2 and i[0] == i[-1]: \n",
    "        print(i)"
   ]
  },
  {
   "cell_type": "code",
   "execution_count": 11,
   "id": "e31473ec",
   "metadata": {},
   "outputs": [
    {
     "name": "stdout",
     "output_type": "stream",
     "text": [
      "Enter number : 3\n",
      "Enter your Elements : ljk\n",
      "Enter your Elements : hg\n",
      "Enter your Elements : 2\n",
      "['ljk', 'hg', '2']\n"
     ]
    }
   ],
   "source": [
    "#Write a Python program to remove duplicates from a list. \n",
    "list1=[]\n",
    "num = int(input(\"Enter number : \"))\n",
    "for i in range(num):\n",
    "    Elements = input(\"Enter your Elements : \")\n",
    "    list1.append(Elements)    #To append an element in List 1\n",
    "list1 = list(dict.fromkeys(list1))   #Dictionaries and their Fromkeys have been used\n",
    "print(list1)        "
   ]
  },
  {
   "cell_type": "code",
   "execution_count": null,
   "id": "bcc319b4",
   "metadata": {},
   "outputs": [],
   "source": [
    "#Write a Python program to check a list is empty or not.\n",
    "\n",
    "list2 = input(\"Enter list : \")\n",
    "if len(list2)==0:   #To check if the length of list2 is 0 or not\n",
    "    print(\"empty\")\n",
    "else:\n",
    "    print(\"not empty\")"
   ]
  },
  {
   "cell_type": "code",
   "execution_count": 2,
   "id": "b1eac866",
   "metadata": {},
   "outputs": [],
   "source": [
    "#Write a Python function that takes two lists and returns true if they have \n",
    "#at least one common member.\n",
    "def commen_data(list1, list2):  #COMMEN_DATA is function\n",
    "    result = False                         \n",
    "    for a in list1:\n",
    "        for b in list2:\n",
    "            if a == b:    #To check if A == B then true will be printed otherwise none will be printed\n",
    "                result = True\n",
    "                return  result\n",
    "print(commen_data([1,2,3,4,5],[5,6,7,8,9]))  #funcution call\n",
    "print(commen_data([1,2,3,4,5], [6,7,8,9]))"
   ]
  },
  {
   "cell_type": "code",
   "execution_count": 23,
   "id": "57b02c56",
   "metadata": {},
   "outputs": [],
   "source": [
    "#Write a Python program to generate and print a list of first and last 5 \n",
    "#elements where the values are square of numbers between 1 and 30. \n",
    "list1=[4,5,6,9,6,9,5,45,5,6,4,65,456,4,6,7,7,8,5,2,3,656,2,3,6,5]\n",
    "l2=[]\n",
    "for i in list1[:5]:\n",
    "    if i**2 <30:\n",
    "        l2.append(i**2)\n",
    "for i in list1[-5:]:\n",
    "    if i**2 <30:\n",
    "        l2.append(i**2)\n",
    "print(l2)"
   ]
  },
  {
   "cell_type": "code",
   "execution_count": 24,
   "id": "d3800d47",
   "metadata": {},
   "outputs": [],
   "source": [
    "#Write a Python function that takes a list and returns a new list with unique \n",
    "#elements of the first list.\n",
    "list1=[]\n",
    "def function(num):\n",
    "    for i in range(num):\n",
    "        list1.append(input(\"Enter value :\"))  #To append an element in List 1\n",
    "    print(list1)\n",
    "    list2=set(list1)   #list2 set in list1\n",
    "    print(list2)\n",
    "\n",
    "num= int(input(\"Enter number : \"))\n",
    "function(num)"
   ]
  },
  {
   "cell_type": "code",
   "execution_count": 25,
   "id": "8bb7e586",
   "metadata": {},
   "outputs": [],
   "source": [
    "#Write a Python program to convert a list of characters into a string.\n",
    "list1=['a','b','c','d','e','f']\n",
    "str1=\"\"\n",
    "for i in list1:\n",
    "    print(i + str1,end=\"\")  "
   ]
  },
  {
   "cell_type": "code",
   "execution_count": 26,
   "id": "51a4ea0a",
   "metadata": {},
   "outputs": [],
   "source": [
    "#Write a Python program to select an item randomly from a list.\n",
    "import random   #import random \n",
    "list1=['Rakshit','sugandh','chirag']\n",
    "random.choice(list1)  #gives to random values"
   ]
  },
  {
   "cell_type": "code",
   "execution_count": 27,
   "id": "7e468c68",
   "metadata": {},
   "outputs": [],
   "source": [
    "#Write a Python program to find the second smallest number in a list.#\n",
    "list1=[]\n",
    "num=int(input(\"Enter Number :\"))\n",
    "for i in range(num):\n",
    "    n=int(input(\"Enter A numbers :\"))\n",
    "    list1.append(n)#To append an n in List 1\n",
    "list1.sort()   #list 1 in sort\n",
    "print(list1[1])  #print in second smallest number"
   ]
  },
  {
   "cell_type": "code",
   "execution_count": 28,
   "id": "c7d6ac0d",
   "metadata": {},
   "outputs": [],
   "source": [
    "#Write a Python program to get unique values from a list \n",
    "list1=[]\n",
    "num=int(input(\"Enter number :\"))\n",
    "for i in range(num):\n",
    "    n=int(input(\"Enter A Number : \"))\n",
    "    list1.append(n) #To append an element in List 1\n",
    "list1=list(dict.fromkeys(list1))  #FromKeys is used to add unique values\n",
    "print(list1)"
   ]
  },
  {
   "cell_type": "code",
   "execution_count": 29,
   "id": "444693d1",
   "metadata": {},
   "outputs": [],
   "source": [
    "#Write a Python program to check whether a list contains a sub list \n",
    "list1=[15,24,66,51,[45,32,45,14],45,62,31]\n",
    "flag=False\n",
    "for i in list1:\n",
    "    if type(i)==list:  #To check whether type of i is list or not\n",
    "        flag=True\n",
    "        break\n",
    "        \n",
    "if flag==True:  #If the flag is True then list found will be printed otherwise list not found will be printed\n",
    "    print(\"List Find\")\n",
    "else:\n",
    "    print(\"List Not find\")"
   ]
  },
  {
   "cell_type": "code",
   "execution_count": 30,
   "id": "26d97b8f",
   "metadata": {},
   "outputs": [],
   "source": [
    "#Write a Python program to split a list into different variables. \n",
    "\n",
    "list1=[\"Hello\",\"Wow\",\"Great\"]\n",
    "a,b,c=list1\n",
    "print(a)   #print of list all element\n",
    "print(b)\n",
    "print(c)"
   ]
  },
  {
   "cell_type": "code",
   "execution_count": 31,
   "id": "742852a1",
   "metadata": {},
   "outputs": [],
   "source": [
    "#What is tuple? Difference between list and tuple. \n",
    "#---->  The primary difference between tuples and lists is that tuples are immutable as opposed to lists which are mutable.\n",
    "#       Therefore, it is possible to change a list but not a tuple. The contents of a tuple cannot change once they have been\n",
    "#       created in Python due to the immutability of tuples."
   ]
  },
  {
   "cell_type": "code",
   "execution_count": 32,
   "id": "f33d194b",
   "metadata": {},
   "outputs": [],
   "source": [
    "#Write a Python program to create a tuple with different data types. \n",
    "tup=(14,\"Hello\",15.25,[15,25,84,56],True)\n",
    "print(tup)"
   ]
  },
  {
   "cell_type": "code",
   "execution_count": 33,
   "id": "256d6a53",
   "metadata": {},
   "outputs": [],
   "source": [
    "#Write a Python program to create a tuple with numbers. \n",
    "intTuple=()\n",
    "num=int(input(\"Enter a tuple number :\"))\n",
    "for i in range(num):\n",
    "    value=int(input(\"Enter A value of tuple :\"))\n",
    "    intTuple += (value,)#To match the value from user in tuple to intTuple\n",
    "print(intTuple)"
   ]
  },
  {
   "cell_type": "code",
   "execution_count": null,
   "id": "066b869a",
   "metadata": {},
   "outputs": [],
   "source": [
    "# 21. Write a Python program to convert a tuple to a string. \n",
    "\n",
    "str1=input(\"Enter a string : \")\n",
    "a=str1.split(\" \")  #string is split\n",
    "tup=tuple(a)   #split string convert to tuple\n",
    "print(tup)"
   ]
  },
  {
   "cell_type": "code",
   "execution_count": null,
   "id": "a5113d30",
   "metadata": {},
   "outputs": [],
   "source": [
    "# Q 22. Write a Python program to check whether an element exists within a tuple. \n",
    "\n",
    "tuple=('hardik',58,56.25,'hardik:1',45,788.32558,'python')\n",
    "print('python' in tuple)  #To check whether a tuple contains a Python string or not\n",
    "print(155 in tuple)  #To check whether a tuple contains a 155 int or not"
   ]
  },
  {
   "cell_type": "code",
   "execution_count": null,
   "id": "be141027",
   "metadata": {},
   "outputs": [],
   "source": [
    "# Q 23. Write a Python program to find the length of a tuple.\n",
    "\n",
    "tuple1=(\"Hello\",\"i\",\"am\",\"good\",\"men\")\n",
    "print(len(tuple1))    #For the length of the tuple"
   ]
  },
  {
   "cell_type": "code",
   "execution_count": null,
   "id": "2247c25c",
   "metadata": {},
   "outputs": [],
   "source": [
    "# Q 24. Write a Python program to convert a list to a tuple. \n",
    "\n",
    "tuple1=(\"Hello\",\"i\",\"am\",\"good\",\"men\")\n",
    "print(list(tuple1))   #convert to tuple in list"
   ]
  },
  {
   "cell_type": "code",
   "execution_count": null,
   "id": "70ca75bc",
   "metadata": {},
   "outputs": [],
   "source": [
    "# Q 25. Write a Python program to reverse a tuple. \n",
    "t2=()\n",
    "tuple1=(\"Hello\",\"i\",\"am\",\"good\",\"men\")\n",
    "for i in reversed(tuple1): #tuple reverse\n",
    "    t2 += (i,)\n",
    "print(t2)"
   ]
  },
  {
   "cell_type": "code",
   "execution_count": null,
   "id": "2e7dc168",
   "metadata": {},
   "outputs": [],
   "source": [
    "# Q 26. Write a Python program to replace last value of tuples in a list.\n",
    "list1=[25,2.3,[25,32,25],(25,65,45),(\"hello\",\"world\")]\n",
    "list3=[]\n",
    "for i in list1:\n",
    "    if type(i)==tuple:  #To see if the type of i is a tuple or not\n",
    "        list2=list(i)    #convert to i of list2\n",
    "        list2[-1]=input(\"Enter Value : \")\n",
    "        i=tuple(list2)  #convert to list2 of tuple\n",
    "        list3.append(i)  # i append in list3\n",
    "    else:\n",
    "        list3.append(i)\n",
    "print(list3)"
   ]
  },
  {
   "cell_type": "code",
   "execution_count": null,
   "id": "01dce6ed",
   "metadata": {},
   "outputs": [],
   "source": [
    "# Q 27. Write a Python program to find the repeated items of a tuple.\n",
    "\n",
    "# tuple1=(1,2,3,4,5,6,1,2,5,4)\n",
    "# count1=tuple1.count(1)\n",
    "# print(count1)\n",
    "\n",
    "list1=[]\n",
    "num=int(input(\"Enter A number :\"))\n",
    "for i in range(num):\n",
    "    element=int(input(\"Enter number :\"))\n",
    "    list1.append(element)   #element append to list1\n",
    "tuple1=tuple(list1)   #convert to list1 in tuple\n",
    "print(tuple1)\n",
    "set1=set()  #empty set\n",
    "for i in tuple1:\n",
    "    if tuple1.count(i) > 1:  #tuple count of geterthen of 1\n",
    "           set1.add(i)    # i add of set1\n",
    "print(set1)            "
   ]
  },
  {
   "cell_type": "code",
   "execution_count": null,
   "id": "f5574c2d",
   "metadata": {},
   "outputs": [],
   "source": [
    "# Q 28.Write a Python program to remove an empty tuple(s) from a list of tuples. \n",
    "\n",
    "list1=[(10,20),(\"hello\",\"World\"),(25,\"Rakshit\"),(  ),(25,26)]\n",
    "print(\"orignel list :\",list1)\n",
    "for i in list1:\n",
    "    if(len(i)==0):  #lenth of i is == 0\n",
    "        list1.remove(i) #list1 remove in i\n",
    "print(list1)"
   ]
  },
  {
   "cell_type": "code",
   "execution_count": null,
   "id": "425fc3b5",
   "metadata": {},
   "outputs": [],
   "source": [
    "# Q 29. Write a Python program to unzip a list of tuples into individual lists.\n",
    "list1=[(1,2,3),(4,5,6),(7,8,9)]\n",
    "for i in list1:   \n",
    "    print(list(i))"
   ]
  },
  {
   "cell_type": "code",
   "execution_count": null,
   "id": "25a2dd04",
   "metadata": {},
   "outputs": [],
   "source": [
    "# Q 30. Write a Python program to convert a list of tuples into a dictionary.\n",
    "\n",
    "list1=[(\"Rakshit\",50),(\"Pratik\",60),(\"Chirag\",45),(\"Hardik\",75)]\n",
    "dict1=dict()  #empty dictionary\n",
    "\n",
    "for name,score in list1:\n",
    "    dict1.setdefault(name , []).append(score)   #To append name and score to decisioner from setdefult\n",
    "#     dict1.append(name , [score])\n",
    "print(dict1)\n",
    "    "
   ]
  },
  {
   "cell_type": "code",
   "execution_count": null,
   "id": "f22c85fa",
   "metadata": {},
   "outputs": [],
   "source": [
    "# Q 31. How will you create a dictionary using tuples in python?\n",
    "\n",
    "tuple1=((\"Rakshit\",25),(\"Chirag\",85),(\"Hardik\",65))\n",
    "dict1=dict(tuple1)  #convert to tuple in dictionary\n",
    "print(dict1)"
   ]
  },
  {
   "cell_type": "code",
   "execution_count": null,
   "id": "c46f9c30",
   "metadata": {},
   "outputs": [],
   "source": [
    "# Q 32. Write a Python script to sort (ascending and descending) a dictionary by value.\n",
    "dict2={}  #dict2 is empty\n",
    "dict3={}  #dict3 is empty\n",
    "dict1={\"Raghav\":45,\"Mehul\":46,\"Rakesh\":47,\"Akash\":48,\"Prince\":49}\n",
    "list1=list(dict1.items())  #Replace dict1.items with list1\n",
    "list2=list(dict1.items())  #Replace dict1.items with list2\n",
    "list1.sort()    #list1 sort(acending)\n",
    "list2.sort(reverse=True)  #list2 sort(descending)\n",
    "dict2=dict(list1)  #convert to list1 in dict2\n",
    "dict3=dict(list2)  #convert to list2 in dict3\n",
    "print(f\"Acending : {dict2}\")\n",
    "print(f\"Descending : {dict3}\")"
   ]
  },
  {
   "cell_type": "code",
   "execution_count": null,
   "id": "080405a0",
   "metadata": {},
   "outputs": [],
   "source": [
    "# Q 33. Write a Python script to concatenate following dictionaries to create a new one\n",
    "\n",
    "dict1={\"Rakshit\":111,\"Chirag\":112}\n",
    "dict2={\"Prtik\":211,\"Hardik\":212}\n",
    "dict3={\"Avani\":311,\"Bhumi\":312}\n",
    "dict4={}\n",
    "for i in (dict1,dict2,dict3):\n",
    "    dict4.update(i)  #dict1,dict2 and sdict3 is add to dict4\n",
    "print(dict4)"
   ]
  },
  {
   "cell_type": "code",
   "execution_count": null,
   "id": "ab5b1001",
   "metadata": {},
   "outputs": [],
   "source": [
    "# Q 34.  Write a Python script to check if a given key already exists in a dictionary. \n",
    "dict1={\"Rakshit\":14,\"Chirag\":15,\"Rahul\":16,\"Malay\":17,\"Hardik\":18,\"Jay\":19}\n",
    "key=input(\"Enter A key :\")\n",
    "dict1.keys()\n",
    "if key in dict1.keys():  #To check whether any key given by user is in dict1 or not\n",
    "    print(\"Yes\")\n",
    "else:\n",
    "    print(\"No\""
   ]
  },
  {
   "cell_type": "code",
   "execution_count": null,
   "id": "ad751ea0",
   "metadata": {},
   "outputs": [],
   "source": [
    "# Q 35. How Do You Traverse Through A Dictionary Object In Python? \n",
    "#---->  Using dict. items() Method. ...\n",
    "        #Using Keys() Method. ...\n",
    "        #Using Values() Method. ...\n",
    "        #Iterating with Index. ...\n",
    "        #Iterating Over Dictionary In Alphabetical Order. ...\n",
    "        #Sort Using Dictionary Item Values.\n",
    "        \n",
    "dict1={\"a\":14,\"b\":15,\"c\":16,\"d\":17}\n",
    "\n",
    "for key , values in dict1.items():\n",
    "    print(key,values)"
   ]
  },
  {
   "cell_type": "code",
   "execution_count": null,
   "id": "29388938",
   "metadata": {},
   "outputs": [],
   "source": [
    "# Q 36. How Do You Check The Presence Of A Key In A Dictionary?\n",
    "dict1={\"Rakshit\":14,\"Chirag\":15,\"Rahul\":16,\"Malay\":17,\"Hardik\":18,\"Jay\":19}\n",
    "for i in dict1.keys():    #To get the key\n",
    "    print(i,end=\", \")"
   ]
  },
  {
   "cell_type": "code",
   "execution_count": null,
   "id": "dbb3825d",
   "metadata": {},
   "outputs": [],
   "source": [
    "# Q 37. Write a Python script to print a dictionary where the keys are numbers between 1 and 15. \n",
    "dict1=dict()\n",
    "for i in range(1,16):\n",
    "    dict1[i]=i**2  # i power is 2\n",
    "print(dict1)"
   ]
  },
  {
   "cell_type": "code",
   "execution_count": null,
   "id": "0923a2af",
   "metadata": {},
   "outputs": [],
   "source": [
    "# Q 38.Write a Python program to check multiple keys exists in a dictionary\n",
    "dict1={\"Rakshit\":14,\"Chirag\":15,\"Rahul\":16,\"Malay\":17,\"Hardik\":18,\"Jay\":19}\n",
    "n=int(input(\"Entre input Number :\"))\n",
    "list1=[]\n",
    "for i in range(n):\n",
    "    list1.append(input(\"Enter A key :\"))  #list1 append to user input\n",
    "dict1.keys()\n",
    "for j in list1: \n",
    "    if j not in dict1.keys():  #To check whether the user will give the key or not\n",
    "        print(\"No\")\n",
    "    else:\n",
    "        print(\"Yes\")"
   ]
  },
  {
   "cell_type": "code",
   "execution_count": null,
   "id": "ba470159",
   "metadata": {},
   "outputs": [],
   "source": [
    "# Q 39. Write a Python script to merge two Python dictionaries \n",
    "dict1={\"Rakshit\":45,\"Chirag\":46}\n",
    "# dict2={\"Rakshit\":45,\"Chirag\":46}\n",
    "dict3={\"Mehul\":11,\"Rakesh\":12}\n",
    "# if dict1 == dict3 or dict1 == dict2:\n",
    "#     print(f\"{dict1} And {dict2} is Merge\")\n",
    "# else:\n",
    "#     print(f\"{dict1} And {dict3} is not a Merge \n",
    "dict4={}\n",
    "dict1.update(dict3) #dict3 is marge to dict and dict2\n",
    "print(dict1)"
   ]
  },
  {
   "cell_type": "code",
   "execution_count": null,
   "id": "f0ff47c5",
   "metadata": {},
   "outputs": [],
   "source": [
    "# Q 40. Write a Python program to map two lists into a dictionary \n",
    "def fun1(l1):\n",
    "       return l1**3  #return to li power of 3\n",
    "list1=[1,2,3,4,5,6,7,8,9,10]\n",
    "data=map(fun1,list1)  #use for map function\n",
    "for i in data:\n",
    "    print(i,end=\" \")"
   ]
  },
  {
   "cell_type": "code",
   "execution_count": null,
   "id": "06186a86",
   "metadata": {},
   "outputs": [],
   "source": [
    "# Q 41. Write a Python program to combine two dictionary adding values for common keys.\n",
    "from collections import Counter   \n",
    "d1 = {'a': 100, 'b': 200, 'c':300}\n",
    "d2 = {'a': 300, 'b': 200, 'd':400} \n",
    "\n",
    "d3=Counter(d1)+Counter(d2)  #Counter import to d2 values adding to  d2 in d3\n",
    "print(d3)"
   ]
  },
  {
   "cell_type": "code",
   "execution_count": null,
   "id": "026c416a",
   "metadata": {},
   "outputs": [],
   "source": [
    "# Q 42. Write a Python program to print all unique values in a dictionary. \n",
    "\n",
    "list1 = [{\"abc\":\"movies\"}, {\"abc\": \"sports\"}, {\"abc\": \"music\"}, {\"xyz\": \"music\"}, {\"pqr\":\"music\"}, {\"pqr\":\"movies\"},{\"pqr\":\"sports\"}, {\"pqr\":\"news\"}, {\"pqr\":\"sports\"}]\n",
    "set1 = set()\n",
    "for i in list1: \n",
    "    for j in i.values(): #to get unique values\n",
    "        set1.add(j)  #unique values add in set1\n",
    "print(set1)\n",
    "print(len(set1))"
   ]
  },
  {
   "cell_type": "code",
   "execution_count": null,
   "id": "3a4ff835",
   "metadata": {},
   "outputs": [],
   "source": [
    "# Q 43.Why Do You Use the Zip () Method in Python? \n",
    "#----> Python's zip() function creates an iterator that will aggregate elements from two or more iterables. You can use the \n",
    "#      resulting iterator to quickly and consistently solve common programming problems, like creating dictionaries.\n",
    "name=[\"Rakshit\",\"Chirag\",\"Jay\",\"Pratik\",\"Mehul\",\"Raj\"]\n",
    "Roll=[1,2,3,4,5,6]\n",
    "Ditils=zip(name,Roll)  #use for Zip method\n",
    "print(set(Ditils))"
   ]
  },
  {
   "cell_type": "code",
   "execution_count": null,
   "id": "28458f88",
   "metadata": {},
   "outputs": [],
   "source": [
    "# Q 44. Write a Python program to create and display all combinations of letters, selecting each letter from a different key in a dictionary. \n",
    "\n",
    "d={'1': ['a','b'], '2': ['c','d']} \n",
    "for i in d['1']:\n",
    "    for j in d['2']:\n",
    "        print(i + j)"
   ]
  },
  {
   "cell_type": "code",
   "execution_count": null,
   "id": "03e35101",
   "metadata": {},
   "outputs": [],
   "source": [
    "# Q 45. Write a Python program to find the highest 3 values in a dictionary\n",
    "dict1={45:48,48:569,87:25,36:789,124:563}\n",
    "list1=list(dict1.values())  #dictionary values convert to list\n",
    "list1.sort(reverse=True) #list1 to sort and decending\n",
    "print(list1[:3]) #0 to 3 first element"
   ]
  },
  {
   "cell_type": "code",
   "execution_count": null,
   "id": "73e6d9d7",
   "metadata": {},
   "outputs": [],
   "source": [
    "# Q 46. Write a Python program to combine values in python list of dictionaries.\n",
    "\n",
    "d= [{'item': 'item1', 'amount': 400}, {'item': 'item2', 'amount':300}, {'item': 'item1', 'amount': 750}] \n",
    "dict1={}  #dict empty\n",
    "for i in d:\n",
    "    if i['item'] in dict1:  #check to item dict1\n",
    "        dict1[i['item']] += i['amount']\n",
    "    else:\n",
    "        dict1[i['item']] = i['amount']\n",
    "print(dict1)"
   ]
  },
  {
   "cell_type": "code",
   "execution_count": null,
   "id": "a0d16a0d",
   "metadata": {},
   "outputs": [],
   "source": [
    "# Q 47.  Write a Python program to create a dictionary from a string. \n",
    "d='w3resource'\n",
    "dict1={}  #empty dict\n",
    "for i in d: #check to d\n",
    "    if i in dict1:  #char in dict1 + 1\n",
    "        dict1[i] += 1\n",
    "    else:    #char in dict1 = 1\n",
    "        dict1[i] = 1\n",
    "print(dict1)"
   ]
  },
  {
   "cell_type": "code",
   "execution_count": null,
   "id": "4d92aa85",
   "metadata": {},
   "outputs": [],
   "source": [
    "# Q 48. Write a Python function to calculate the factorial of a number (a nonnegative integer) \n",
    "\n",
    "def factorial(num):  #function\n",
    "    fact=1\n",
    "    for i in range(1,num+1):\n",
    "        fact *= i;  #To find the factorial of user's number\n",
    "        print(f\"Factorial Number : {fact}\")\n",
    "    \n",
    "num=int(input(\"Enter number : \"))\n",
    "factorial(num)  #call for function"
   ]
  },
  {
   "cell_type": "code",
   "execution_count": null,
   "id": "9a1719c0",
   "metadata": {},
   "outputs": [],
   "source": [
    "# Q 49. Write a Python function to check whether a number is in a given range\n",
    "\n",
    "def function(n,start_range,end_range=0):  #pass to peramteer in function\n",
    "    if start_range <= n <= end_range:   #n must be greater than start_range and less than end_range\n",
    "        print(\"True\")\n",
    "    elif end_range >= start_range:   #start_range geter than equal to end_range\n",
    "        print(\"False\")\n",
    "    elif end_range <= n <= start_range:  #n must be lass than end_range and less than start_range\n",
    "        print(\"True\")\n",
    "    \n",
    "    \n",
    "n=int(input(\"Enter Number : \"))  #user input number\n",
    "start_range=int(input(\"Enter Satrting Number : \"))  #user input strat_range\n",
    "end_range=int(input(\"Enter Ending Number : \"))  #user input end_range\n",
    "function(n,start_range,end_range)  #function call"
   ]
  },
  {
   "cell_type": "code",
   "execution_count": null,
   "id": "1024b556",
   "metadata": {},
   "outputs": [],
   "source": [
    "# Q 50. Write a Python function to check whether a number is perfect or not.\n",
    "\n",
    "def function(num):  #pass for num in function\n",
    "    sum=0\n",
    "    for i in range(1,num):  #use for loop and range in start 1 and ending num\n",
    "        if num % i == 0:  #num divided i and equal equal 0  \n",
    "            sum += i\n",
    "            print(i)\n",
    "            sum == num\n",
    "    if sum == num:   # sum equal equal num\n",
    "        print(\"Perfect Number \")\n",
    "    else:\n",
    "        print(\"Not a perfect number\")\n",
    "            \n",
    "num=int(input(\"Enter number : \"))  #user input\n",
    "function(num)  #function call"
   ]
  },
  {
   "cell_type": "code",
   "execution_count": null,
   "id": "c356b508",
   "metadata": {},
   "outputs": [],
   "source": [
    "# Q 51. Write a Python function that checks whether a passed string is palindrome or not \n",
    "def palidrome(str1):  #pass peramter in function \n",
    "    if (str1 == str1[::-1]):  #reverce string\n",
    "        print(\"String is Palindrome\")\n",
    "    else:\n",
    "        print(\"String is not a Palindrome\")\n",
    "    \n",
    "str1=input(\"Enter String : \")  #user input\n",
    "palidrome(str1)  #function call"
   ]
  },
  {
   "cell_type": "code",
   "execution_count": null,
   "id": "931dbe76",
   "metadata": {},
   "outputs": [],
   "source": [
    "# Q 52. How Many Basic Types Of Functions Are Available In Python?\n",
    "\n",
    "Python gives us to basic types of function\n",
    "\n",
    "1.Bulit-in , and\n",
    "\n",
    "2. user-defind.\n",
    "\n",
    "The built in function happen to be part of the python lenguage.Some of these are print(),dir(),len() and a"
   ]
  },
  {
   "cell_type": "code",
   "execution_count": null,
   "id": "801af05e",
   "metadata": {},
   "outputs": [],
   "source": [
    "# Q 53. How can you pick a random item from a list or tuple?\n",
    "# --->   sing random.\n",
    "#        Create a tuple and add some dummy data to it. Generate a random item from the tuple using random. choice() \n",
    "#        method(This function returns a random element from the specified sequence i.e tuple here) by passing the input tuple as \n",
    "#        an argument to the choice() function. Print the generated random tuple item.\n",
    "\n",
    "import random  #use random module \n",
    "tuple1=(12,\"python\",7,\"code\",20,\"Basic\")\n",
    "randomitem=random.choice(tuple1)  #random choice\n",
    "print(\"item for tuple : \",randomitem)"
   ]
  },
  {
   "cell_type": "code",
   "execution_count": null,
   "id": "eb84e6d8",
   "metadata": {},
   "outputs": [],
   "source": []
  },
  {
   "cell_type": "code",
   "execution_count": null,
   "id": "23696ca4",
   "metadata": {},
   "outputs": [],
   "source": [
    "# Q 54. How can you pick a random item from a range? \n",
    "# --->  Use the random. randrange() function(Returns a random number within the specified range) to generate a random number \n",
    "#       within the given range by passing minimum, and maximum numbers as arguments.\n",
    "import random  #import random module\n",
    "\n",
    "print(\"Print A Range of 1 to 50 : \")\n",
    "\n",
    "x=random.randrange(1,30)  #use for randrange in 1 to 30\n",
    "print(x)\n",
    "y=random.randrange(31,50)  #use for randrange in 31 to 50\n",
    "print(y)"
   ]
  },
  {
   "cell_type": "code",
   "execution_count": null,
   "id": "7bd9131f",
   "metadata": {},
   "outputs": [],
   "source": [
    "# Q 55. How can you get a random number in python? \n",
    "# --->  To generate random number in Python, randint() function is used. This function is defined in random module.\n",
    "\n",
    "import random  #import random module\n",
    "\n",
    "print(\"Print A Random Number : \")\n",
    "x = random.randint(1,100) #use for randint module\n",
    "print(x)"
   ]
  },
  {
   "cell_type": "code",
   "execution_count": null,
   "id": "1b7efdde",
   "metadata": {},
   "outputs": [],
   "source": [
    "# Q 56. How will you set the starting value in generating random numbers?\n",
    "# --->  The random number generator needs a number to start with (a seed value), to be able to generate a random number. By \n",
    "#       default the random number generator uses the current system time. Use the seed() method to customize the start number\n",
    "#       of the random number generator.\n",
    "\n",
    "import random  #import random module\n",
    "\n",
    "random.seed(10)  #use random seed\n",
    "print(random.random())\n",
    "\n",
    "random.seed(100)  #use random seed\n",
    "print(random.random())"
   ]
  },
  {
   "cell_type": "code",
   "execution_count": null,
   "id": "2c1a427b",
   "metadata": {},
   "outputs": [],
   "source": [
    "# Q 57. How will you randomizes the items of a list in place?\n",
    "# --->  The shuffle() method randomizes the items of a list in place.\n",
    "\n",
    "import random  #import random module\n",
    "\n",
    "list1=[14,25,36,74,85,96]\n",
    "\n",
    "random.shuffle(list1) #use a random shuffle\n",
    "\n",
    "print(list1)"
   ]
  },
  {
   "cell_type": "code",
   "execution_count": null,
   "id": "da9b27ea",
   "metadata": {},
   "outputs": [],
   "source": [
    "# Q 58. Write a Python program to read a random line from a file. \n",
    "# --->  \n",
    "import random  #import random module\n",
    "def random_line(fname): #pass a peameter in function\n",
    "    lines = open(fname).read().splitlines()\n",
    "    return random.choice(lines)  #return random choice\n",
    "print(random_line('test.txt'))  "
   ]
  },
  {
   "cell_type": "code",
   "execution_count": null,
   "id": "38f42832",
   "metadata": {},
   "outputs": [],
   "source": [
    "# Q 59. Write a Python program to convert degree to radian\n",
    "import math  #import math module\n",
    "\n",
    "def function(degree):  #pass a peramter in function\n",
    "    radians=math.radians(degree)  #user math module\n",
    "    return radians  #retrun radians\n",
    "    \n",
    "    \n",
    "degree=float(input(\"Enter A Float Value : \"))\n",
    "radians=function(degree)  #retrun value add to radians variable\n",
    "print(radians)"
   ]
  },
  {
   "cell_type": "code",
   "execution_count": null,
   "id": "9e1a2d89",
   "metadata": {},
   "outputs": [],
   "source": [
    "# Q 60. Write a Python program to calculate the area of a trapezoid \n",
    "\n",
    "base1=float(input(\"Enter Value of base1 :\"))  #user input for base1\n",
    "base2=float(input(\"Enter Value of base2 :\"))  #user input for base2\n",
    "hight=float(input(\"Enter Value of hight :\"))  #user input for hight\n",
    "area=(base1 + base2) * hight / 2 #base1 + base2 * hight /2 in new variable\n",
    "print(area)  #print for new variable"
   ]
  },
  {
   "cell_type": "code",
   "execution_count": null,
   "id": "66225374",
   "metadata": {},
   "outputs": [],
   "source": [
    "# Q 61. Write a Python program to calculate the area of a parallelogram\n",
    "\n",
    "b=float(input(\"Enter B value : \"))\n",
    "h=float(input(\"Enter H value : \"))\n",
    "a= b * h  #a of a parallelogram\n",
    "print(a)"
   ]
  },
  {
   "cell_type": "code",
   "execution_count": null,
   "id": "13c85d72",
   "metadata": {},
   "outputs": [],
   "source": [
    "# Q 62. Write a Python program to calculate surface volume and area of a cylinder \n",
    "\n",
    "pi=22/7  #pi\n",
    "hight=float(input(\"Enter Cylider Hight : \"))\n",
    "radians=float(input(\"Enter Cylider Radians :\"))\n",
    "volume=pi*radians*radians*hight  \n",
    "surface=((2*pi*radians)*hight) + ((pi*radians**2)*2)  #2 multiplay by pi and multiplay by hight plus pi multi radians ** 2\n",
    "vol=int(volume)  #convert to intigr\n",
    "suf=int(surface)  #convert to integer\n",
    "print(\"Surface Volume : \",(vol))\n",
    "print(\"Surface Area : \",(suf))"
   ]
  },
  {
   "cell_type": "code",
   "execution_count": null,
   "id": "932efe4a",
   "metadata": {},
   "outputs": [],
   "source": [
    "# Q 63. Write a Python program to returns sum of all divisors of a number\n",
    "\n",
    "def function(num): #pass to peramter in function\n",
    "    list1=[1]\n",
    "    for i in range(2,num):  #use for loop in range a start 2 num\n",
    "        if(num % i)==0:  #number divided of i and equal equal 0\n",
    "            list1.append(i)  #list1 append in i \n",
    "    return sum(list1)  #retrun sum of list1\n",
    "    \n",
    "num=int(input(\"Enter number : \"))\n",
    "function(num)"
   ]
  },
  {
   "cell_type": "code",
   "execution_count": null,
   "id": "f05c7d9e",
   "metadata": {},
   "outputs": [],
   "source": [
    "# Q 64. Write a Python program to find the maximum and minimum numbers from the specified decimal numbers. \n",
    "\n",
    "from decimal import *   #use from decimal and import *\n",
    "data=list(map(Decimal,'2.45 2.69 2.45 3.45 2.00 0.04 7.25'.split())) #data convert to list and map\n",
    "print(data)\n",
    "print(\"Maximum : \",max(data)) #maximum data\n",
    "print(\"Minimum : \",min(data)) #minimum data"
   ]
  }
 ],
 "metadata": {
  "kernelspec": {
   "display_name": "Python 3 (ipykernel)",
   "language": "python",
   "name": "python3"
  },
  "language_info": {
   "codemirror_mode": {
    "name": "ipython",
    "version": 3
   },
   "file_extension": ".py",
   "mimetype": "text/x-python",
   "name": "python",
   "nbconvert_exporter": "python",
   "pygments_lexer": "ipython3",
   "version": "3.10.9"
  }
 },
 "nbformat": 4,
 "nbformat_minor": 5
}
