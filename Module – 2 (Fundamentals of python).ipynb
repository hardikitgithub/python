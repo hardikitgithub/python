{
 "cells": [
  {
   "cell_type": "code",
   "execution_count": 6,
   "id": "0c24e460",
   "metadata": {},
   "outputs": [
    {
     "name": "stdout",
     "output_type": "stream",
     "text": [
      "Enter Number :5\n",
      "it is Positive.\n"
     ]
    }
   ],
   "source": [
    "#Write a Python program to check if a number is positive, negative or zero.\n",
    "num=int (input(\"Enter Number :\"))           #User input\n",
    "if num > 0 :                                #check for positive number\n",
    "      print(\"it is Positive.\")     \n",
    "elif num < 0:                             #check for zero number\n",
    "      print(\"it is nagitve.\")\n",
    "else:                                      #check for nagitve number\n",
    "      print(\"it is zero.\")\n"
   ]
  },
  {
   "cell_type": "code",
   "execution_count": 7,
   "id": "bb4d8284",
   "metadata": {},
   "outputs": [
    {
     "name": "stdout",
     "output_type": "stream",
     "text": [
      "Enter Number :25\n",
      "Factorial number is 15511210043330985984000000.\n"
     ]
    }
   ],
   "source": [
    "# Write a Python program to get the Factorial number of given number.\n",
    "fact= 1\n",
    "num=int(input(\"Enter Number :\"))    #user input\n",
    "\n",
    "for i in range(1,num+1):           #check for factorial number\n",
    "    fact *= i;\n",
    "    \n",
    "print(f\"Factorial number is {fact}.\") #print number"
   ]
  },
  {
   "cell_type": "code",
   "execution_count": 8,
   "id": "c24b72d8",
   "metadata": {},
   "outputs": [
    {
     "name": "stdout",
     "output_type": "stream",
     "text": [
      "Enter Number :2\n",
      "Fibonacci series is 2\n",
      "0 1 "
     ]
    }
   ],
   "source": [
    "# Write a Python program to get the Fibonacci series of given range.\n",
    "num= int (input(\"Enter Number :\"))\n",
    "print(f\"Fibonacci series is {num}\")   #print user number\n",
    "A = 0\n",
    "B = 1\n",
    "C = 0\n",
    "print(A,B,end=\" \")\n",
    "for i in range(2,num):\n",
    "    if (num<=1):\n",
    "        print(1)\n",
    "    else:                #else logic fabonacci\n",
    "        C = A + B\n",
    "        A = B\n",
    "        B = C\n",
    "    print(C,end=\" \")"
   ]
  },
  {
   "cell_type": "code",
   "execution_count": null,
   "id": "249f8981",
   "metadata": {},
   "outputs": [],
   "source": [
    "# How memory is managed in Python?\n",
    "#-->Memory management in Python involves a private heap containing all Python objects and data structures. The management\n",
    "#  of this private heap is ensured internally by the Python memory manager."
   ]
  },
  {
   "cell_type": "code",
   "execution_count": null,
   "id": "c9011097",
   "metadata": {},
   "outputs": [],
   "source": [
    "# What is the purpose continue statement in python?\n",
    "#--> The continue keyword is used to end the current iteration in a for loop (or a while loop), \n",
    "#    and continues to the next iteration."
   ]
  },
  {
   "cell_type": "code",
   "execution_count": 9,
   "id": "ca9503d8",
   "metadata": {},
   "outputs": [
    {
     "name": "stdout",
     "output_type": "stream",
     "text": [
      "-----With temp-----\n",
      "First Number :2\n",
      "Second Number :2\n",
      "The value of N1 after swapping : 2\n",
      "The value of N2 after swapping : 2\n",
      "-----Without temp-----\n",
      "First Number :2\n",
      "Second Number :2\n",
      "The Value of A after swapping : 2\n",
      "The value of B after swapping : 2\n"
     ]
    }
   ],
   "source": [
    "# Write python program that swap two number with temp variable and without temp variable.\n",
    "print(\"-----With temp-----\")\n",
    "n1= int(input(\"First Number :\"))\n",
    "n2= int(input(\"Second Number :\"))    #The user will provide two inputs\n",
    "\n",
    "temp = n1\n",
    "n1 = n2       #swap number with temp\n",
    "n2 = temp\n",
    "\n",
    "print(f\"The value of N1 after swapping : {n1}\")\n",
    "print(f\"The value of N2 after swapping : {n2}\")    #Print the swap number\n",
    "\n",
    "print(\"-----Without temp-----\")\n",
    "\n",
    "a= int (input(\"First Number :\"))\n",
    "b= int (input(\"Second Number :\"))     #The user will provide two inputs\n",
    "\n",
    "a = a + b\n",
    "b = a - b     #swap number with out temp\n",
    "a = a - b\n",
    "\n",
    "print(f\"The Value of A after swapping : {a}\")\n",
    "print(f\"The value of B after swapping : {b}\")   #Print the swap number\n"
   ]
  },
  {
   "cell_type": "code",
   "execution_count": 10,
   "id": "5ec3734d",
   "metadata": {},
   "outputs": [
    {
     "name": "stdout",
     "output_type": "stream",
     "text": [
      "Enter any number : 2\n",
      "it is even number.\n"
     ]
    }
   ],
   "source": [
    "# Write a Python program to find whether a given number is even or odd, print out an appropriate message to the user.\n",
    "num=int (input(\"Enter any number : \"))  #The user will provide a number\n",
    "\n",
    "if(num % 2)==0:     #check a even number\n",
    "    print(\"it is even number.\")\n",
    "\n",
    "else:\n",
    "    print(\"it is odd number.\")  #If there is no even number then odd number will be printed"
   ]
  },
  {
   "cell_type": "code",
   "execution_count": 11,
   "id": "62e8a35e",
   "metadata": {},
   "outputs": [
    {
     "name": "stdout",
     "output_type": "stream",
     "text": [
      "Enter Char :hardik\n",
      "[--char is consonat--]\n"
     ]
    }
   ],
   "source": [
    "# Write a Python program to test whether a passed letter is a vowel or not.\n",
    "vowel= (input(\"Enter Char :\"))\n",
    "if (vowel==\"a\"or vowel==\"e\"or vowel==\"i\"or vowel==\"o\"or vowel==\"u\"):  #check for a small vowel number\n",
    "    print(\"Small vowel\")\n",
    "elif (vowel==\"A\"or vowel==\"E\"or vowel==\"I\"or vowel==\"O\"or vowel==\"U\"):  #check for a capital vowel number\n",
    "    print(\"Capital vowel\")\n",
    "else:\n",
    "    print(\"[--char is consonat--]\")"
   ]
  },
  {
   "cell_type": "code",
   "execution_count": 12,
   "id": "952613a0",
   "metadata": {},
   "outputs": [
    {
     "name": "stdout",
     "output_type": "stream",
     "text": [
      "Enter value of A : 2\n",
      "Enter value of B : 2\n",
      "Enter value of c : 2\n",
      "sum is : 6\n",
      "two value are equal\n",
      " sum will be = 0\n"
     ]
    }
   ],
   "source": [
    "# Write a Python program to sum of three given integers. However, if two values are equal sum will be zero.\n",
    "a= int(input(\"Enter value of A : \"))\n",
    "b= int(input(\"Enter value of B : \"))    #The user will provide a number\n",
    "c= int(input(\"Enter value of c : \"))\n",
    "\n",
    "sum = a + b + c   #sum for all variabel\n",
    "print(\"sum is :\",sum)\n",
    "if ((a == b or a == c)):   #check for two value equal\n",
    "    if(a == b):\n",
    "        print(\"two value are equal\\n sum will be =\",a - b)\n",
    "    else:\n",
    "        print(\"two value are equal\\n sum will be =\",a - c)\n",
    "elif ((b == a or b == c)):   #check for two value equal\n",
    "    \n",
    "    if(b == a):\n",
    "        print(\"two value are equal\\n sum will be =\",b - a)\n",
    "    else:\n",
    "        print(\"two value are equal\\n sum will be =\",a - c)\n",
    "else:\n",
    "    print(\"*[Two value is not equal]*\")"
   ]
  },
  {
   "cell_type": "code",
   "execution_count": 13,
   "id": "e33ed947",
   "metadata": {},
   "outputs": [
    {
     "name": "stdout",
     "output_type": "stream",
     "text": [
      "Enter first number :2\n",
      "Enter second numbeer :5\n",
      "False\n"
     ]
    }
   ],
   "source": [
    "# Write a Python program that will return true if the two given integer values are equal or their sum or difference is 5.\n",
    "a= int(input(\"Enter first number :\"))\n",
    "b= int(input(\"Enter second numbeer :\"))  #The user will provide a number\n",
    "\n",
    "if ((a == b) or (a - b)== 5 or (a + b)== 5):  #check for two number are equal or their sum or difference is 5\n",
    "    print(\"True\")\n",
    "else:\n",
    "    print(\"False\")"
   ]
  },
  {
   "cell_type": "code",
   "execution_count": 15,
   "id": "520170c0",
   "metadata": {},
   "outputs": [
    {
     "name": "stdout",
     "output_type": "stream",
     "text": [
      "Enter the value of n :2\n",
      "1 2  = 3\n"
     ]
    }
   ],
   "source": [
    "# Write a python program to sum of the first n positive integers.\n",
    "n = int(input(\"Enter the value of n :\")) #The user will provide a number\n",
    "\n",
    "sum = 0\n",
    "for i in range(1,n+1):  #Whatever number the user puts in, from 0 to that number\n",
    "    sum+=i   #all the numbers are summed up\n",
    "    print(i,end=\" \")\n",
    "print(\" =\",sum)"
   ]
  },
  {
   "cell_type": "code",
   "execution_count": 16,
   "id": "46c57023",
   "metadata": {},
   "outputs": [
    {
     "name": "stdout",
     "output_type": "stream",
     "text": [
      "Enter Your Name :hah\n",
      "str1\n",
      "3\n"
     ]
    }
   ],
   "source": [
    "#  Write a Python program to calculate the length of a string.\n",
    "str1 = input(\"Enter Your Name :\")  #The user will provide a number\n",
    "print(\"str1\")  \n",
    "print(len(str1))  #check for string lenth "
   ]
  },
  {
   "cell_type": "code",
   "execution_count": 45,
   "id": "5e1ad0f3",
   "metadata": {},
   "outputs": [
    {
     "name": "stdout",
     "output_type": "stream",
     "text": [
      "Enter character:H\n",
      "Enter character for the freqency:H\n",
      "H.in H frequency is1\n"
     ]
    }
   ],
   "source": [
    "# Write a Python program to count the number of characters (character frequency) in a string.\n",
    "str1 = input(\"Enter character:\")\n",
    "str2 = input(\"Enter character for the freqency:\")\n",
    "print(f\"{str1}.in {str2} frequency is{str1.count(str2)}\")"
   ]
  },
  {
   "cell_type": "code",
   "execution_count": null,
   "id": "faf8f98a",
   "metadata": {},
   "outputs": [],
   "source": [
    "#What are negative indexes and why are they used?\n",
    "#-->To access an element from ordered sequences, we simply use the index of the element, \n",
    "#which is the number of the position of that element. The index usually starts from 0,\n",
    "#meaning that the first element has the index 0 and the second has 1, and so on.\n",
    "\n",
    "#When we use the index to access elements from the end of a list,\n",
    "#it’s called reverse indexing. In reverse indexing, the indexing of elements start from the last element with the index number being ‘−1’. \n",
    "#The second last element has the index ‘−2’, and so on. These indexes used in reverse indexing are called negative indexes."
   ]
  },
  {
   "cell_type": "code",
   "execution_count": 43,
   "id": "d5c59955",
   "metadata": {},
   "outputs": [
    {
     "name": "stdout",
     "output_type": "stream",
     "text": [
      "1\n"
     ]
    }
   ],
   "source": [
    "#Write a Python program to count occurrences of a substring in a string.\n",
    "str1 = \"i am learn python\"\n",
    "print(str1.count(\"learn\"))"
   ]
  },
  {
   "cell_type": "code",
   "execution_count": null,
   "id": "b037026b",
   "metadata": {},
   "outputs": [],
   "source": [
    "#Write a Python program to count the occurrences of each word in a given sentence.\n"
   ]
  },
  {
   "cell_type": "code",
   "execution_count": 4,
   "id": "97bd1a0a",
   "metadata": {},
   "outputs": [
    {
     "name": "stdout",
     "output_type": "stream",
     "text": [
      "enter first string:hardik vaghasiya\n",
      "enter first string:hardik vaghasiya\n",
      "hardik vaghasiya hardik vaghasiya\n"
     ]
    }
   ],
   "source": [
    "#Write a Python program to get a single string from two given strings, separated by a space and swap the first two characters of each string.\n",
    "a = input(\"enter first string:\")\n",
    "b = input(\"enter first string:\")\n",
    "c =b[:2]+a[2:]\n",
    "d =a[:2]+b[2:]\n",
    "print(c+\" \"+d)"
   ]
  },
  {
   "cell_type": "code",
   "execution_count": 26,
   "id": "e2f9b7c2",
   "metadata": {},
   "outputs": [
    {
     "name": "stdout",
     "output_type": "stream",
     "text": [
      "enter string:string\n",
      "strly\n"
     ]
    }
   ],
   "source": [
    "#Write a Python program to add 'ing' at the end of a given string (length \n",
    "#should be at least 3). If the given string already ends with 'ing' then add \n",
    "#'ly' instead if the string length of the given string is less than 3, leave it \n",
    "#unchanged.\n",
    "str1=input(\"enter string:\")\n",
    "if len(str1)>=3 and str1.endswith(\"ing\"):\n",
    "    print(str1.replace(\"ing\",\"ly\"))\n",
    "elif len(str1)>=3 and not str1.endswith(\"ing\"):\n",
    "    print(str1+\"ing\")\n",
    "else:\n",
    "    print(\"leave it unchanged\")"
   ]
  },
  {
   "cell_type": "code",
   "execution_count": 41,
   "id": "5e253605",
   "metadata": {},
   "outputs": [
    {
     "name": "stdout",
     "output_type": "stream",
     "text": [
      "ENTER STRING:hardik is not braver\n"
     ]
    }
   ],
   "source": [
    "#Write a Python program to find the first appearance of the substring \n",
    "#'not' and 'poor' from a given string, if 'not' follows the 'poor', replace the \n",
    "#whole 'not'...'poor' substring with 'good'. Return the resulting string.\n",
    "a = input(\"ENTER STRING:\")\n",
    "b = a.find(\"not\")\n",
    "c = a.find(\"poor\")\n",
    "if b<c:\n",
    "    print(a.replace(a[b:c+4],\"good\"))"
   ]
  },
  {
   "cell_type": "code",
   "execution_count": null,
   "id": "aac579c8",
   "metadata": {},
   "outputs": [],
   "source": [
    "#Write a Python function that takes a list of words and returns the length of the longest one.\n",
    "\n"
   ]
  },
  {
   "cell_type": "code",
   "execution_count": 29,
   "id": "7bab3765",
   "metadata": {},
   "outputs": [
    {
     "name": "stdout",
     "output_type": "stream",
     "text": [
      "ENTER STRING:fsdjfgjh\n",
      "LENGTH IS 8\n",
      "hjgfjdsf\n"
     ]
    }
   ],
   "source": [
    "#Write a Python function to reverses a string if its length is a multiple of 4.\n",
    "num=input(\"ENTER STRING:\")\n",
    "print(f\"LENGTH IS {len(num)}\")\n",
    "if len(num)%4==0:\n",
    "    print(num[-1::-1])"
   ]
  },
  {
   "cell_type": "code",
   "execution_count": 34,
   "id": "bba8b2f8",
   "metadata": {},
   "outputs": [
    {
     "name": "stdout",
     "output_type": "stream",
     "text": [
      "enter string:zdxfxfghhjk\n",
      "new string is = zdjk\n"
     ]
    }
   ],
   "source": [
    "#Write a Python program to get a string made of the first 2 and the last \n",
    "#2 chars from a given a string. If the string length is less than 2, return instead of the empty string\n",
    "a = input(\"enter string:\")\n",
    "if len(a)<2:\n",
    "    print('')\n",
    "else:\n",
    "    print(f\"new string is = {a[:2]+a[-2:]}\")"
   ]
  },
  {
   "cell_type": "code",
   "execution_count": 42,
   "id": "7dc4758c",
   "metadata": {},
   "outputs": [
    {
     "name": "stdout",
     "output_type": "stream",
     "text": [
      "enter middle name:hardik\n",
      "full name is vaghasiya hardik kishorbhai\n"
     ]
    }
   ],
   "source": [
    "#Write a Python function to insert a string in the middle of a string\n",
    "a=\"vaghasiya kishorbhai\"\n",
    "b=input(\"enter middle name:\")\n",
    "print(f\"full name is {a[:10]+b+' '+a[10:]}\")\n"
   ]
  },
  {
   "cell_type": "markdown",
   "id": "29717a60",
   "metadata": {},
   "source": []
  }
 ],
 "metadata": {
  "kernelspec": {
   "display_name": "Python 3 (ipykernel)",
   "language": "python",
   "name": "python3"
  },
  "language_info": {
   "codemirror_mode": {
    "name": "ipython",
    "version": 3
   },
   "file_extension": ".py",
   "mimetype": "text/x-python",
   "name": "python",
   "nbconvert_exporter": "python",
   "pygments_lexer": "ipython3",
   "version": "3.10.9"
  }
 },
 "nbformat": 4,
 "nbformat_minor": 5
}
